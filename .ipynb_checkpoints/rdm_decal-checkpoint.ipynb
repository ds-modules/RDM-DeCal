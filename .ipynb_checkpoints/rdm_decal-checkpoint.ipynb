{
 "cells": [
  {
   "cell_type": "markdown",
   "metadata": {
    "slideshow": {
     "slide_type": "slide"
    }
   },
   "source": [
    "## Research Data Management for Data Science \n",
    "#### UC Berkeley Library, Research IT\n",
    "\n",
    "* Data Evaluation\n",
    "* Data Cleaning\n",
    "    * Reshaping and joining\n",
    "    * Variable names and types\n",
    "    * Missing values, nulls, and zeros\n",
    "* Reproducibility/Metadata \n",
    "\n",
    "\n"
   ]
  },
  {
   "cell_type": "markdown",
   "metadata": {
    "slideshow": {
     "slide_type": "slide"
    }
   },
   "source": [
    "# Data Evaluation\n",
    "|                                                                                                                   |\n",
    "|-------------------------------------------------------------------------------------------------------------------|\n",
    "| What makes this dataset findable?                                                                                 |\n",
    "| Can you tell if this is original/raw data or if it's been manipulated? Who created this?                          |\n",
    "| Can you tell what the unit of observation is?                                                                     |\n",
    "| If you had to merge or add to this, could you?                                                                    |\n",
    "| Do you think this data can answer our question _What is the proportion of women to men in the Technology Industry?_ |\n",
    "|                                                                                                                   |\n",
    "\n",
    "|         |                                                                       |\n",
    "|---------|-----------------------------------------------------------------------|\n",
    "| Group 1 | https://www.eeoc.gov/eeoc/statistics/reports/hightech/                |\n",
    "| Group 2 | https://github.com/alison985/women-in-tech-datasets                   |\n",
    "| Group 3 | https://www.dol.gov/wb/stats/Computer_information_technology_2014.htm |\n",
    "| Group 4 | https://www.bls.gov/cps/cpsaat11.htm                                  |\n",
    "| Group 5 | https://berkeley.box.com/s/ik0obara8hj8k212logii0sh9m5vwj63           |"
   ]
  },
  {
   "cell_type": "markdown",
   "metadata": {
    "slideshow": {
     "slide_type": "slide"
    }
   },
   "source": [
    "# Data Evaluation\n",
    "\n",
    "\n",
    "![](./images/quality.png)\n",
    "\n",
    "[Quartz Guide to Bad Data](https://qz.com/572338/the-quartz-guide-to-bad-data/)\n",
    "\n",
    "\n"
   ]
  },
  {
   "cell_type": "markdown",
   "metadata": {
    "slideshow": {
     "slide_type": "slide"
    }
   },
   "source": [
    "# Data Cleaning\n",
    "\n",
    "> “Happy families are all alike; every unhappy family is unhappy in its own way.” \n",
    "\n",
    "– Leo Tolstoy\n",
    "\n",
    "\n",
    "> “Tidy datasets are all alike, but every messy dataset is messy in its own way.”\n",
    "\n",
    "– Hadley Wickham \n",
    "\n"
   ]
  },
  {
   "cell_type": "markdown",
   "metadata": {
    "slideshow": {
     "slide_type": "notes"
    }
   },
   "source": [
    "There is a much repeated saying in data science that 80% of data analysis is applying cleaning operations to get the dataset to a usable form for analysis. Because transforming a raw data set is time consuming and will take several iterations, it is important to think about the lifecycle of a dataset, how it changes, and how you will document those changes to others. \n",
    "\n",
    "We will look at some of the more common techniques for [Tidy Data](\"http://r4ds.had.co.nz/tidy-data.html\").\n",
    "\n"
   ]
  },
  {
   "cell_type": "markdown",
   "metadata": {
    "slideshow": {
     "slide_type": "slide"
    }
   },
   "source": [
    "Tidy Data has the following attributes:\n",
    "\n",
    "* Each variable forms a column and contains values\n",
    "* Each observation forms a row\n",
    "\n",
    "  \n",
    " ![](./images/tidy.png)\n",
    "\n",
    "\n",
    "\n"
   ]
  },
  {
   "cell_type": "markdown",
   "metadata": {
    "slideshow": {
     "slide_type": "slide"
    }
   },
   "source": [
    "### Reshaping\n"
   ]
  },
  {
   "cell_type": "code",
   "execution_count": null,
   "metadata": {
    "scrolled": true,
    "slideshow": {
     "slide_type": "slide"
    }
   },
   "outputs": [],
   "source": [
    "import pandas as pd\n",
    "\n",
    "df = pd.read_csv(\"./data/pew-raw.csv\")\n",
    "df"
   ]
  },
  {
   "cell_type": "markdown",
   "metadata": {
    "slideshow": {
     "slide_type": "skip"
    }
   },
   "source": [
    "df is a common looking data table designed to be easily readable in print. Many times you will find data like this if it has been digitized from government documents or survey providers (like Pew or Gallup) and provided in Excel spreadsheets. Though it is human readable it is not useful for analysis. \n",
    "\n",
    "We want to [melt](\"http://pandas.pydata.org/pandas-docs/stable/generated/pandas.melt.html\") this data from *wide* to *long* so that income classes are no longer in the column header and the count values are no longer spread out through the table but neatly contained as variables in columns."
   ]
  },
  {
   "cell_type": "code",
   "execution_count": null,
   "metadata": {
    "scrolled": false,
    "slideshow": {
     "slide_type": "slide"
    }
   },
   "outputs": [],
   "source": [
    "tidy_df = pd.melt(df,\n",
    "                  [\"religion\"],\n",
    "                  var_name=\"income\",\n",
    "                  value_name=\"n\")\n",
    "tidy_df = tidy_df.sort_values(by=[\"religion\"])\n",
    "tidy_df.head(10)\n",
    "\n",
    "\n"
   ]
  },
  {
   "cell_type": "markdown",
   "metadata": {
    "slideshow": {
     "slide_type": "subslide"
    }
   },
   "source": [
    "If we want to do the reverse and revert it to a \"pivot-table\" like dataset as we saw before, the [pivot](\"https://pandas.pydata.org/pandas-docs/stable/generated/pandas.DataFrame.pivot.html\") function can be used."
   ]
  },
  {
   "cell_type": "code",
   "execution_count": null,
   "metadata": {
    "collapsed": true,
    "slideshow": {
     "slide_type": "subslide"
    }
   },
   "outputs": [],
   "source": [
    "wide_df = tidy_df.pivot( \n",
    "                   index = 'religion', \n",
    "                   columns = 'income', \n",
    "                   values = 'n')\n",
    "wide_df.head()"
   ]
  },
  {
   "cell_type": "code",
   "execution_count": null,
   "metadata": {
    "slideshow": {
     "slide_type": "slide"
    }
   },
   "outputs": [],
   "source": [
    "#tidy_df.drop(['start','end'], axis=1)\n",
    "\n",
    "# split variable\n",
    "tidy_df['lower_inc'] = tidy_df.income.str.split('-').str.get(0)\n",
    "tidy_df['upper_inc'] = tidy_df.income.str.split('-').str.get(1) \n",
    "\n",
    "tidy_df.head()\n",
    "\n"
   ]
  },
  {
   "cell_type": "code",
   "execution_count": null,
   "metadata": {
    "slideshow": {
     "slide_type": "slide"
    }
   },
   "outputs": [],
   "source": [
    "print(df.describe())\n"
   ]
  },
  {
   "cell_type": "markdown",
   "metadata": {
    "slideshow": {
     "slide_type": "slide"
    }
   },
   "source": [
    "## Merging\n",
    "\n"
   ]
  },
  {
   "cell_type": "markdown",
   "metadata": {},
   "source": [
    " ![](./images/sql-joins.png)\n"
   ]
  },
  {
   "cell_type": "code",
   "execution_count": null,
   "metadata": {
    "collapsed": true,
    "slideshow": {
     "slide_type": "slide"
    }
   },
   "outputs": [],
   "source": [
    "members = pd.read_csv(\"./data/members.csv\")\n",
    "instruments = pd.read_csv(\"./data/instruments.csv\")"
   ]
  },
  {
   "cell_type": "code",
   "execution_count": null,
   "metadata": {
    "slideshow": {
     "slide_type": "slide"
    }
   },
   "outputs": [],
   "source": [
    "from IPython.display import display\n",
    "\n",
    "display(members.head())\n",
    "display(instruments.head())\n"
   ]
  },
  {
   "cell_type": "code",
   "execution_count": null,
   "metadata": {
    "scrolled": false,
    "slideshow": {
     "slide_type": "slide"
    }
   },
   "outputs": [],
   "source": [
    "pd.merge(members, instruments, how = 'right', on = 'name')"
   ]
  },
  {
   "cell_type": "markdown",
   "metadata": {
    "slideshow": {
     "slide_type": "notes"
    }
   },
   "source": [
    "Left merge will merge keys from \"left\" dataframe\n",
    "\n",
    "Right merge will merge keys from \"right\" dataframe. \n"
   ]
  },
  {
   "cell_type": "code",
   "execution_count": null,
   "metadata": {
    "slideshow": {
     "slide_type": "slide"
    }
   },
   "outputs": [],
   "source": [
    "pd.merge(members, instruments, how = 'outer', on = 'name')"
   ]
  },
  {
   "cell_type": "markdown",
   "metadata": {
    "slideshow": {
     "slide_type": "notes"
    }
   },
   "source": [
    "Inner joins retain only the rows common to both datasets. Try changing the *how* argument to run an outer join. What happens?"
   ]
  },
  {
   "cell_type": "markdown",
   "metadata": {
    "slideshow": {
     "slide_type": "slide"
    }
   },
   "source": [
    "## Text Data"
   ]
  },
  {
   "cell_type": "code",
   "execution_count": null,
   "metadata": {
    "slideshow": {
     "slide_type": "slide"
    }
   },
   "outputs": [],
   "source": [
    "tidy_df['lower_inc'] = tidy_df.lower_inc.str.strip(\"$\")\n",
    "\n",
    "tidy_df.head()"
   ]
  },
  {
   "cell_type": "markdown",
   "metadata": {
    "slideshow": {
     "slide_type": "slide"
    }
   },
   "source": [
    "## Text Data\n",
    "\n",
    "Converting the entire document to lower case\n",
    "\n",
    "Removing punctuation marks (periods, commas, hyphens etc)\n",
    "\n",
    "Removing stopwords (extremely common words such as “and”, “or”, “not”, etc)\n",
    "\n",
    "Removing numbers\n",
    "\n",
    "Filtering out unwanted terms\n",
    "\n",
    "Removing extra whitespace\n",
    "\n",
    "\n",
    "\n"
   ]
  },
  {
   "cell_type": "markdown",
   "metadata": {
    "slideshow": {
     "slide_type": "slide"
    }
   },
   "source": [
    "## Text Data\n",
    "\n",
    "[Regular Expressions in Python](https://github.com/dlab-berkeley/regular-expressions-in-python)\n",
    "\n",
    "[Regexone](https://regexone.com/references/python)\n",
    "\n",
    "[Learn Regex the Easy Way](https://github.com/zeeshanu/learn-regex)"
   ]
  },
  {
   "cell_type": "markdown",
   "metadata": {
    "collapsed": true,
    "slideshow": {
     "slide_type": "slide"
    }
   },
   "source": [
    "## Variable Management"
   ]
  },
  {
   "cell_type": "code",
   "execution_count": null,
   "metadata": {
    "slideshow": {
     "slide_type": "slide"
    }
   },
   "outputs": [],
   "source": [
    "for col in tidy_df:\n",
    "    print (type(tidy_df[col][1]))\n",
    "    \n",
    "tidy_df.head()"
   ]
  },
  {
   "cell_type": "markdown",
   "metadata": {
    "slideshow": {
     "slide_type": "slide"
    }
   },
   "source": [
    "### Dates\n",
    "\n"
   ]
  },
  {
   "cell_type": "code",
   "execution_count": null,
   "metadata": {
    "collapsed": true,
    "slideshow": {
     "slide_type": "slide"
    }
   },
   "outputs": [],
   "source": [
    "dates = pd.read_csv(\"./data/dates.csv\")\n",
    "dates"
   ]
  },
  {
   "cell_type": "code",
   "execution_count": null,
   "metadata": {
    "collapsed": true,
    "slideshow": {
     "slide_type": "slide"
    }
   },
   "outputs": [],
   "source": [
    "#check data types\n",
    "for col in dates:\n",
    "    print (type(dates[col][1]))\n",
    "\n"
   ]
  },
  {
   "cell_type": "code",
   "execution_count": null,
   "metadata": {
    "collapsed": true,
    "slideshow": {
     "slide_type": "slide"
    }
   },
   "outputs": [],
   "source": [
    "#convert str to date\n",
    "dates[\"date_time\"] = pd.to_datetime(dates[\"date_time\"] )\n",
    "\n",
    "dates"
   ]
  },
  {
   "cell_type": "markdown",
   "metadata": {
    "slideshow": {
     "slide_type": "slide"
    }
   },
   "source": [
    "## Variable Naming Best Practices\n",
    "\n",
    "\n",
    "\n",
    "\n",
    "|Good Example   | Bad Example   | Description  |\n",
    "|---|---|---|\n",
    "|gnp2010   |gnp-2002; gnp#2002    |   |\n",
    "|real_int    |real interest rate    |   |\n",
    "| score1; gnp2003   | 1st_score; 2003gnp  |  |\n",
    "|reg_out; glm1    | REG; glm; ttest   |   |\n",
    "| invest; interest  | xxx; yyy; zmdje;   |    |\n",
    "|male; asian    | gender; race   |   |\n",
    "| citizen   | Are_you_a_US_citizen?   |   |\n",
    "| income; intUS03   | INCOME; Int_us2003;   |   |\n",
    "| 2017-04-20   |April 20, 2017   |   |   |\n"
   ]
  },
  {
   "cell_type": "markdown",
   "metadata": {
    "slideshow": {
     "slide_type": "slide"
    }
   },
   "source": [
    "## Variable Naming Best Practices\n",
    "\n",
    "\n",
    "\n",
    "|Good Example   | Bad Example   | Description  |\n",
    "|---|---|---|\n",
    "|gnp2010   |gnp-2002; gnp#2002    | avoid special characters  |\n",
    "|real_int    |real interest rate    |Use underscore   |\n",
    "| score1; gnp2003   | 1st_score; 2003gnp  | Begin with a character   |\n",
    "|reg_out; glm1    | REG; glm; ttest   | Avoid reserved words  |\n",
    "| invest; interest  | xxx; yyy; zmdje;   |Use meaningful names    |\n",
    "|male; asian    | gender; race   | Use a value of dummy   |\n",
    "| fav_color   | Whats_Your_Favorite_Color?   | The shorter, the better   |\n",
    "| income; intUS03   | INCOME; Int_us2003;   | Use lower cases   |\n",
    "| 2017-04-20   |April 20, 2017   | Use common ISO year format  |\n"
   ]
  },
  {
   "cell_type": "markdown",
   "metadata": {
    "collapsed": true,
    "slideshow": {
     "slide_type": "slide"
    }
   },
   "source": [
    "## Missing Values, Nulls, and Zeros\n",
    "\n",
    "![](images/nulls.png)"
   ]
  },
  {
   "cell_type": "code",
   "execution_count": null,
   "metadata": {
    "collapsed": true,
    "slideshow": {
     "slide_type": "slide"
    }
   },
   "outputs": [],
   "source": [
    "tidy_df.dropna()\n",
    "#tidydf.fillna(value)\n",
    "\n"
   ]
  },
  {
   "cell_type": "markdown",
   "metadata": {
    "slideshow": {
     "slide_type": "slide"
    }
   },
   "source": [
    "Tidy Data has the following attributes:\n",
    "\n",
    "* Each variable forms a column and contains values\n",
    "* Each observation forms a row\n",
    "\n",
    "  \n",
    " ![](./images/tidy.png)\n"
   ]
  },
  {
   "cell_type": "markdown",
   "metadata": {
    "slideshow": {
     "slide_type": "slide"
    }
   },
   "source": [
    "Tidy _and useful_ Data has the following attributes:\n",
    "\n",
    "* Each variable forms a column and contains values\n",
    "* Each observation forms a row\n",
    "* Data types = What you expect them to be \n",
    "* [Appropriate observations and variables to address a question](https://www.theatlantic.com/business/archive/2013/04/forget-excel-this-was-reinhart-and-rogoffs-biggest-mistake/275088/)\n",
    "* Missing values are accounted for, Zeros really zero"
   ]
  },
  {
   "cell_type": "markdown",
   "metadata": {
    "collapsed": true,
    "slideshow": {
     "slide_type": "slide"
    }
   },
   "source": [
    "### Well-Described Data...\n",
    "\n",
    "* Precisely IDs the dataset\n",
    "* Provides details of its origin and history\n",
    "* Eliminates confusion (and error)\n",
    "* Includes “intrinsic metadata”\n",
    "* Justifies every decision made re: the handling of the data\n",
    "* Allows discovery and reuse\n",
    "\n",
    "\n",
    "\n",
    "\n",
    "[\"Science is show me, not trust me\"](http://www.bitss.org/2015/12/31/science-is-show-me-not-trust-me)\n",
    "\n",
    "[Findability, Accessibiliy, Interoperability, Reusability (F.A.I.R) Principles](https://www.force11.org/group/fairgroup/fairprinciples)"
   ]
  },
  {
   "cell_type": "markdown",
   "metadata": {
    "slideshow": {
     "slide_type": "slide"
    }
   },
   "source": [
    "## Reaching out\n",
    "\n",
    "Rick Jaffe, rjaffe@berkeley.edu\n",
    "\n",
    "Josh Quan, joshua.quan@berkeley.edu\n",
    "\n"
   ]
  }
 ],
 "metadata": {
  "celltoolbar": "Slideshow",
  "kernelspec": {
   "display_name": "Python 3",
   "language": "python",
   "name": "python3"
  },
  "language_info": {
   "codemirror_mode": {
    "name": "ipython",
    "version": 3
   },
   "file_extension": ".py",
   "mimetype": "text/x-python",
   "name": "python",
   "nbconvert_exporter": "python",
   "pygments_lexer": "ipython3",
   "version": "3.6.1"
  }
 },
 "nbformat": 4,
 "nbformat_minor": 2
}
